{
 "cells": [
  {
   "cell_type": "markdown",
   "metadata": {},
   "source": [
    "## Shang_Danqin_RNN"
   ]
  },
  {
   "cell_type": "code",
   "execution_count": 1,
   "metadata": {},
   "outputs": [
    {
     "name": "stderr",
     "output_type": "stream",
     "text": [
      "Using TensorFlow backend.\n"
     ]
    }
   ],
   "source": [
    "import numpy as np\n",
    "import pandas as pd\n",
    "import matplotlib.pyplot as plt\n",
    "from keras.models import Sequential\n",
    "from keras.layers import Dense\n",
    "from keras.layers import LSTM\n",
    "from keras.layers import Dropout"
   ]
  },
  {
   "cell_type": "markdown",
   "metadata": {},
   "source": [
    "#### Import data"
   ]
  },
  {
   "cell_type": "code",
   "execution_count": 2,
   "metadata": {},
   "outputs": [
    {
     "data": {
      "text/html": [
       "<div>\n",
       "<style>\n",
       "    .dataframe thead tr:only-child th {\n",
       "        text-align: right;\n",
       "    }\n",
       "\n",
       "    .dataframe thead th {\n",
       "        text-align: left;\n",
       "    }\n",
       "\n",
       "    .dataframe tbody tr th {\n",
       "        vertical-align: top;\n",
       "    }\n",
       "</style>\n",
       "<table border=\"1\" class=\"dataframe\">\n",
       "  <thead>\n",
       "    <tr style=\"text-align: right;\">\n",
       "      <th></th>\n",
       "      <th>Date</th>\n",
       "      <th>Open</th>\n",
       "      <th>High</th>\n",
       "      <th>Low</th>\n",
       "      <th>Close</th>\n",
       "      <th>Adj Close</th>\n",
       "      <th>Volume</th>\n",
       "    </tr>\n",
       "  </thead>\n",
       "  <tbody>\n",
       "    <tr>\n",
       "      <th>0</th>\n",
       "      <td>2012-04-30</td>\n",
       "      <td>206.710007</td>\n",
       "      <td>207.960007</td>\n",
       "      <td>206.320007</td>\n",
       "      <td>207.080002</td>\n",
       "      <td>171.139999</td>\n",
       "      <td>2773200</td>\n",
       "    </tr>\n",
       "    <tr>\n",
       "      <th>1</th>\n",
       "      <td>2012-05-01</td>\n",
       "      <td>207.179993</td>\n",
       "      <td>208.929993</td>\n",
       "      <td>206.710007</td>\n",
       "      <td>208.000000</td>\n",
       "      <td>171.900360</td>\n",
       "      <td>2715900</td>\n",
       "    </tr>\n",
       "    <tr>\n",
       "      <th>2</th>\n",
       "      <td>2012-05-02</td>\n",
       "      <td>206.970001</td>\n",
       "      <td>208.270004</td>\n",
       "      <td>206.910004</td>\n",
       "      <td>208.059998</td>\n",
       "      <td>171.949890</td>\n",
       "      <td>2360300</td>\n",
       "    </tr>\n",
       "    <tr>\n",
       "      <th>3</th>\n",
       "      <td>2012-05-03</td>\n",
       "      <td>208.270004</td>\n",
       "      <td>208.919998</td>\n",
       "      <td>206.550003</td>\n",
       "      <td>207.240005</td>\n",
       "      <td>171.272232</td>\n",
       "      <td>2826600</td>\n",
       "    </tr>\n",
       "    <tr>\n",
       "      <th>4</th>\n",
       "      <td>2012-05-04</td>\n",
       "      <td>206.470001</td>\n",
       "      <td>207.110001</td>\n",
       "      <td>204.399994</td>\n",
       "      <td>204.990005</td>\n",
       "      <td>169.412750</td>\n",
       "      <td>4023600</td>\n",
       "    </tr>\n",
       "  </tbody>\n",
       "</table>\n",
       "</div>"
      ],
      "text/plain": [
       "         Date        Open        High         Low       Close   Adj Close  \\\n",
       "0  2012-04-30  206.710007  207.960007  206.320007  207.080002  171.139999   \n",
       "1  2012-05-01  207.179993  208.929993  206.710007  208.000000  171.900360   \n",
       "2  2012-05-02  206.970001  208.270004  206.910004  208.059998  171.949890   \n",
       "3  2012-05-03  208.270004  208.919998  206.550003  207.240005  171.272232   \n",
       "4  2012-05-04  206.470001  207.110001  204.399994  204.990005  169.412750   \n",
       "\n",
       "    Volume  \n",
       "0  2773200  \n",
       "1  2715900  \n",
       "2  2360300  \n",
       "3  2826600  \n",
       "4  4023600  "
      ]
     },
     "execution_count": 2,
     "metadata": {},
     "output_type": "execute_result"
    }
   ],
   "source": [
    "import os\n",
    "os.chdir(r'C:\\Users\\shang\\Desktop\\Python\\NeuralNets')\n",
    "data = pd.read_csv(\"IBM.csv\")\n",
    "data.head()"
   ]
  },
  {
   "cell_type": "markdown",
   "metadata": {},
   "source": [
    "#### Scale stock price"
   ]
  },
  {
   "cell_type": "code",
   "execution_count": 3,
   "metadata": {},
   "outputs": [
    {
     "data": {
      "text/plain": [
       "array([[ 206.710007],\n",
       "       [ 207.179993],\n",
       "       [ 206.970001],\n",
       "       ..., \n",
       "       [ 145.789993],\n",
       "       [ 146.600006],\n",
       "       [ 146.839996]])"
      ]
     },
     "execution_count": 3,
     "metadata": {},
     "output_type": "execute_result"
    }
   ],
   "source": [
    "stock_price = data.iloc[:,1:2].values\n",
    "stock_price"
   ]
  },
  {
   "cell_type": "code",
   "execution_count": 4,
   "metadata": {},
   "outputs": [
    {
     "data": {
      "text/plain": [
       "array([[ 0.91054481],\n",
       "       [ 0.91539402],\n",
       "       [ 0.91322737],\n",
       "       ..., \n",
       "       [ 0.28198506],\n",
       "       [ 0.2903426 ],\n",
       "       [ 0.29281877]])"
      ]
     },
     "execution_count": 4,
     "metadata": {},
     "output_type": "execute_result"
    }
   ],
   "source": [
    "from sklearn.preprocessing import MinMaxScaler\n",
    "sc = MinMaxScaler()\n",
    "stock_price_scaled =sc.fit_transform(stock_price)\n",
    "stock_price_scaled "
   ]
  },
  {
   "cell_type": "markdown",
   "metadata": {},
   "source": [
    "#### Train Test Split"
   ]
  },
  {
   "cell_type": "code",
   "execution_count": 5,
   "metadata": {},
   "outputs": [
    {
     "name": "stdout",
     "output_type": "stream",
     "text": [
      "1207 302\n"
     ]
    }
   ],
   "source": [
    "train_size = int(len(stock_price_scaled ) * 0.8)\n",
    "test_size = len(stock_price_scaled ) - train_size\n",
    "train, test = stock_price_scaled[0:train_size,:], stock_price_scaled[train_size:len(stock_price_scaled ),:]\n",
    "print(len(train), len(test))"
   ]
  },
  {
   "cell_type": "code",
   "execution_count": 8,
   "metadata": {},
   "outputs": [
    {
     "data": {
      "text/plain": [
       "array([[[ 0.91054481],\n",
       "        [ 0.91539402],\n",
       "        [ 0.91322737],\n",
       "        ..., \n",
       "        [ 0.78033422],\n",
       "        [ 0.73586459],\n",
       "        [ 0.74762685]],\n",
       "\n",
       "       [[ 0.91539402],\n",
       "        [ 0.91322737],\n",
       "        [ 0.92664052],\n",
       "        ..., \n",
       "        [ 0.73586459],\n",
       "        [ 0.74762685],\n",
       "        [ 0.741333  ]],\n",
       "\n",
       "       [[ 0.91322737],\n",
       "        [ 0.92664052],\n",
       "        [ 0.90806847],\n",
       "        ..., \n",
       "        [ 0.74762685],\n",
       "        [ 0.741333  ],\n",
       "        [ 0.77414364]],\n",
       "\n",
       "       ..., \n",
       "       [[ 0.44149813],\n",
       "        [ 0.41229877],\n",
       "        [ 0.41271157],\n",
       "        ..., \n",
       "        [ 0.59368549],\n",
       "        [ 0.60916217],\n",
       "        [ 0.59543949]],\n",
       "\n",
       "       [[ 0.41229877],\n",
       "        [ 0.41271157],\n",
       "        [ 0.42055303],\n",
       "        ..., \n",
       "        [ 0.60916217],\n",
       "        [ 0.59543949],\n",
       "        [ 0.6078208 ]],\n",
       "\n",
       "       [[ 0.41271157],\n",
       "        [ 0.42055303],\n",
       "        [ 0.42653737],\n",
       "        ..., \n",
       "        [ 0.59543949],\n",
       "        [ 0.6078208 ],\n",
       "        [ 0.62711517]]])"
      ]
     },
     "execution_count": 8,
     "metadata": {},
     "output_type": "execute_result"
    }
   ],
   "source": [
    "x_train = []\n",
    "y_train = []\n",
    "for i in range(60,1207):\n",
    "    x_train.append(train[i-60:i,0])\n",
    "    y_train.append(train[i,0])\n",
    "x_train,y_train = np.array(x_train),np.array(y_train)\n",
    "x_train = np.reshape(x_train,(x_train.shape[0],x_train.shape[1],1))\n",
    "x_train"
   ]
  },
  {
   "cell_type": "code",
   "execution_count": 24,
   "metadata": {},
   "outputs": [
    {
     "data": {
      "text/plain": [
       "array([[[ 0.63702016],\n",
       "        [ 0.6499174 ],\n",
       "        [ 0.64785387],\n",
       "        ..., \n",
       "        [ 0.35224933],\n",
       "        [ 0.34244731],\n",
       "        [ 0.33625673]],\n",
       "\n",
       "       [[ 0.6499174 ],\n",
       "        [ 0.64785387],\n",
       "        [ 0.64114737],\n",
       "        ..., \n",
       "        [ 0.34244731],\n",
       "        [ 0.33625673],\n",
       "        [ 0.32851839]],\n",
       "\n",
       "       [[ 0.64785387],\n",
       "        [ 0.64114737],\n",
       "        [ 0.6358852 ],\n",
       "        ..., \n",
       "        [ 0.33625673],\n",
       "        [ 0.32851839],\n",
       "        [ 0.33182   ]],\n",
       "\n",
       "       ..., \n",
       "       [[ 0.50546838],\n",
       "        [ 0.49267442],\n",
       "        [ 0.46729259],\n",
       "        ..., \n",
       "        [ 0.3037556 ],\n",
       "        [ 0.27414361],\n",
       "        [ 0.28941389]],\n",
       "\n",
       "       [[ 0.49267442],\n",
       "        [ 0.46729259],\n",
       "        [ 0.46151465],\n",
       "        ..., \n",
       "        [ 0.27414361],\n",
       "        [ 0.28941389],\n",
       "        [ 0.28198506]],\n",
       "\n",
       "       [[ 0.46729259],\n",
       "        [ 0.46151465],\n",
       "        [ 0.4461411 ],\n",
       "        ..., \n",
       "        [ 0.28941389],\n",
       "        [ 0.28198506],\n",
       "        [ 0.2903426 ]]])"
      ]
     },
     "execution_count": 24,
     "metadata": {},
     "output_type": "execute_result"
    }
   ],
   "source": [
    "x_test = []\n",
    "y_test = []\n",
    "for i in range(60,302):\n",
    "    x_test.append(test[i-60:i,0])\n",
    "    y_test.append(test[i,0])\n",
    "x_test,y_test = np.array(x_test),np.array(y_test)\n",
    "x_test = np.reshape(x_test,(x_test.shape[0],x_test.shape[1],1))\n",
    "x_test"
   ]
  },
  {
   "cell_type": "markdown",
   "metadata": {},
   "source": [
    "#### Build model"
   ]
  },
  {
   "cell_type": "code",
   "execution_count": 10,
   "metadata": {
    "collapsed": true
   },
   "outputs": [],
   "source": [
    "regressor = Sequential()\n",
    "regressor.add(LSTM(units = 50,return_sequences = True,input_shape = (x_train.shape[1],1)))\n",
    "regressor.add(Dropout(0.2))"
   ]
  },
  {
   "cell_type": "code",
   "execution_count": 11,
   "metadata": {
    "collapsed": true
   },
   "outputs": [],
   "source": [
    "regressor.add(LSTM(units = 50,return_sequences = True))\n",
    "regressor.add(Dropout(0.2))"
   ]
  },
  {
   "cell_type": "code",
   "execution_count": 12,
   "metadata": {
    "collapsed": true
   },
   "outputs": [],
   "source": [
    "regressor.add(LSTM(units = 50,return_sequences = True))\n",
    "regressor.add(Dropout(0.2))"
   ]
  },
  {
   "cell_type": "code",
   "execution_count": 13,
   "metadata": {
    "collapsed": true
   },
   "outputs": [],
   "source": [
    "regressor.add(LSTM(units = 50))\n",
    "regressor.add(Dropout(0.2))"
   ]
  },
  {
   "cell_type": "code",
   "execution_count": 14,
   "metadata": {
    "collapsed": true
   },
   "outputs": [],
   "source": [
    "regressor.add(Dense(units = 1))"
   ]
  },
  {
   "cell_type": "code",
   "execution_count": 15,
   "metadata": {
    "collapsed": true
   },
   "outputs": [],
   "source": [
    "regressor.compile(optimizer = 'adam',loss ='mean_squared_error')"
   ]
  },
  {
   "cell_type": "code",
   "execution_count": 16,
   "metadata": {},
   "outputs": [
    {
     "name": "stdout",
     "output_type": "stream",
     "text": [
      "Epoch 1/100\n",
      "1147/1147 [==============================] - 7s 6ms/step - loss: 0.0641\n",
      "Epoch 2/100\n",
      "1147/1147 [==============================] - 5s 4ms/step - loss: 0.0103\n",
      "Epoch 3/100\n",
      "1147/1147 [==============================] - 5s 4ms/step - loss: 0.0080\n",
      "Epoch 4/100\n",
      "1147/1147 [==============================] - 4s 4ms/step - loss: 0.0076\n",
      "Epoch 5/100\n",
      "1147/1147 [==============================] - 4s 4ms/step - loss: 0.0068\n",
      "Epoch 6/100\n",
      "1147/1147 [==============================] - 5s 4ms/step - loss: 0.0070\n",
      "Epoch 7/100\n",
      "1147/1147 [==============================] - 4s 4ms/step - loss: 0.0065\n",
      "Epoch 8/100\n",
      "1147/1147 [==============================] - 4s 4ms/step - loss: 0.0065\n",
      "Epoch 9/100\n",
      "1147/1147 [==============================] - 4s 4ms/step - loss: 0.0062\n",
      "Epoch 10/100\n",
      "1147/1147 [==============================] - 5s 4ms/step - loss: 0.0062\n",
      "Epoch 11/100\n",
      "1147/1147 [==============================] - 5s 4ms/step - loss: 0.0058\n",
      "Epoch 12/100\n",
      "1147/1147 [==============================] - 5s 4ms/step - loss: 0.0056\n",
      "Epoch 13/100\n",
      "1147/1147 [==============================] - 5s 5ms/step - loss: 0.0054\n",
      "Epoch 14/100\n",
      "1147/1147 [==============================] - 6s 5ms/step - loss: 0.0053\n",
      "Epoch 15/100\n",
      "1147/1147 [==============================] - 5s 4ms/step - loss: 0.0053\n",
      "Epoch 16/100\n",
      "1147/1147 [==============================] - 5s 4ms/step - loss: 0.0052\n",
      "Epoch 17/100\n",
      "1147/1147 [==============================] - 5s 4ms/step - loss: 0.0053\n",
      "Epoch 18/100\n",
      "1147/1147 [==============================] - 5s 4ms/step - loss: 0.0050\n",
      "Epoch 19/100\n",
      "1147/1147 [==============================] - 5s 4ms/step - loss: 0.0048\n",
      "Epoch 20/100\n",
      "1147/1147 [==============================] - 5s 4ms/step - loss: 0.0047\n",
      "Epoch 21/100\n",
      "1147/1147 [==============================] - 4s 4ms/step - loss: 0.0043\n",
      "Epoch 22/100\n",
      "1147/1147 [==============================] - 4s 4ms/step - loss: 0.0045\n",
      "Epoch 23/100\n",
      "1147/1147 [==============================] - 5s 4ms/step - loss: 0.0043\n",
      "Epoch 24/100\n",
      "1147/1147 [==============================] - 4s 4ms/step - loss: 0.0043\n",
      "Epoch 25/100\n",
      "1147/1147 [==============================] - 5s 4ms/step - loss: 0.0040\n",
      "Epoch 26/100\n",
      "1147/1147 [==============================] - 5s 4ms/step - loss: 0.0040\n",
      "Epoch 27/100\n",
      "1147/1147 [==============================] - 5s 4ms/step - loss: 0.0041\n",
      "Epoch 28/100\n",
      "1147/1147 [==============================] - 4s 4ms/step - loss: 0.0046\n",
      "Epoch 29/100\n",
      "1147/1147 [==============================] - 4s 4ms/step - loss: 0.0042\n",
      "Epoch 30/100\n",
      "1147/1147 [==============================] - 5s 4ms/step - loss: 0.0035\n",
      "Epoch 31/100\n",
      "1147/1147 [==============================] - 4s 4ms/step - loss: 0.0042\n",
      "Epoch 32/100\n",
      "1147/1147 [==============================] - 4s 4ms/step - loss: 0.0038\n",
      "Epoch 33/100\n",
      "1147/1147 [==============================] - 5s 4ms/step - loss: 0.0040\n",
      "Epoch 34/100\n",
      "1147/1147 [==============================] - 5s 4ms/step - loss: 0.0036\n",
      "Epoch 35/100\n",
      "1147/1147 [==============================] - 4s 4ms/step - loss: 0.0036\n",
      "Epoch 36/100\n",
      "1147/1147 [==============================] - 4s 4ms/step - loss: 0.0033\n",
      "Epoch 37/100\n",
      "1147/1147 [==============================] - 5s 4ms/step - loss: 0.0034\n",
      "Epoch 38/100\n",
      "1147/1147 [==============================] - 4s 4ms/step - loss: 0.0032\n",
      "Epoch 39/100\n",
      "1147/1147 [==============================] - 4s 4ms/step - loss: 0.0036\n",
      "Epoch 40/100\n",
      "1147/1147 [==============================] - 4s 4ms/step - loss: 0.0033\n",
      "Epoch 41/100\n",
      "1147/1147 [==============================] - 5s 4ms/step - loss: 0.0034\n",
      "Epoch 42/100\n",
      "1147/1147 [==============================] - 4s 4ms/step - loss: 0.0034\n",
      "Epoch 43/100\n",
      "1147/1147 [==============================] - 5s 4ms/step - loss: 0.0034\n",
      "Epoch 44/100\n",
      "1147/1147 [==============================] - 5s 4ms/step - loss: 0.0033\n",
      "Epoch 45/100\n",
      "1147/1147 [==============================] - 5s 4ms/step - loss: 0.0031\n",
      "Epoch 46/100\n",
      "1147/1147 [==============================] - 5s 4ms/step - loss: 0.0029\n",
      "Epoch 47/100\n",
      "1147/1147 [==============================] - 5s 4ms/step - loss: 0.0031\n",
      "Epoch 48/100\n",
      "1147/1147 [==============================] - 5s 4ms/step - loss: 0.0028\n",
      "Epoch 49/100\n",
      "1147/1147 [==============================] - 5s 4ms/step - loss: 0.0028\n",
      "Epoch 50/100\n",
      "1147/1147 [==============================] - 5s 4ms/step - loss: 0.0028\n",
      "Epoch 51/100\n",
      "1147/1147 [==============================] - 5s 4ms/step - loss: 0.0028\n",
      "Epoch 52/100\n",
      "1147/1147 [==============================] - 4s 4ms/step - loss: 0.0025\n",
      "Epoch 53/100\n",
      "1147/1147 [==============================] - 4s 4ms/step - loss: 0.0032\n",
      "Epoch 54/100\n",
      "1147/1147 [==============================] - 5s 4ms/step - loss: 0.0027\n",
      "Epoch 55/100\n",
      "1147/1147 [==============================] - 5s 4ms/step - loss: 0.0028\n",
      "Epoch 56/100\n",
      "1147/1147 [==============================] - 5s 4ms/step - loss: 0.0027\n",
      "Epoch 57/100\n",
      "1147/1147 [==============================] - 5s 4ms/step - loss: 0.0025\n",
      "Epoch 58/100\n",
      "1147/1147 [==============================] - 5s 4ms/step - loss: 0.0028\n",
      "Epoch 59/100\n",
      "1147/1147 [==============================] - 5s 4ms/step - loss: 0.0026\n",
      "Epoch 60/100\n",
      "1147/1147 [==============================] - 5s 4ms/step - loss: 0.0026\n",
      "Epoch 61/100\n",
      "1147/1147 [==============================] - 6s 6ms/step - loss: 0.0027\n",
      "Epoch 62/100\n",
      "1147/1147 [==============================] - 5s 4ms/step - loss: 0.0027\n",
      "Epoch 63/100\n",
      "1147/1147 [==============================] - 5s 5ms/step - loss: 0.0023\n",
      "Epoch 64/100\n",
      "1147/1147 [==============================] - 5s 5ms/step - loss: 0.0024\n",
      "Epoch 65/100\n",
      "1147/1147 [==============================] - 5s 4ms/step - loss: 0.0025\n",
      "Epoch 66/100\n",
      "1147/1147 [==============================] - 5s 5ms/step - loss: 0.0023\n",
      "Epoch 67/100\n",
      "1147/1147 [==============================] - 5s 4ms/step - loss: 0.0022\n",
      "Epoch 68/100\n",
      "1147/1147 [==============================] - 5s 4ms/step - loss: 0.0022\n",
      "Epoch 69/100\n",
      "1147/1147 [==============================] - 5s 4ms/step - loss: 0.0023\n",
      "Epoch 70/100\n",
      "1147/1147 [==============================] - 5s 5ms/step - loss: 0.0021\n",
      "Epoch 71/100\n",
      "1147/1147 [==============================] - 5s 5ms/step - loss: 0.0023\n",
      "Epoch 72/100\n",
      "1147/1147 [==============================] - 5s 4ms/step - loss: 0.0022\n",
      "Epoch 73/100\n",
      "1147/1147 [==============================] - 5s 4ms/step - loss: 0.0022\n",
      "Epoch 74/100\n",
      "1147/1147 [==============================] - 5s 4ms/step - loss: 0.0020\n",
      "Epoch 75/100\n",
      "1147/1147 [==============================] - 5s 4ms/step - loss: 0.0020\n",
      "Epoch 76/100\n",
      "1147/1147 [==============================] - 5s 4ms/step - loss: 0.0020\n",
      "Epoch 77/100\n",
      "1147/1147 [==============================] - 5s 5ms/step - loss: 0.0023\n",
      "Epoch 78/100\n",
      "1147/1147 [==============================] - 5s 4ms/step - loss: 0.0020\n",
      "Epoch 79/100\n",
      "1147/1147 [==============================] - 5s 4ms/step - loss: 0.0018\n",
      "Epoch 80/100\n",
      "1147/1147 [==============================] - 5s 4ms/step - loss: 0.0019\n",
      "Epoch 81/100\n",
      "1147/1147 [==============================] - 5s 4ms/step - loss: 0.0020\n",
      "Epoch 82/100\n",
      "1147/1147 [==============================] - 5s 4ms/step - loss: 0.0019\n",
      "Epoch 83/100\n",
      "1147/1147 [==============================] - 5s 4ms/step - loss: 0.0020\n",
      "Epoch 84/100\n",
      "1147/1147 [==============================] - 5s 4ms/step - loss: 0.0020\n",
      "Epoch 85/100\n",
      "1147/1147 [==============================] - 5s 4ms/step - loss: 0.0020\n",
      "Epoch 86/100\n",
      "1147/1147 [==============================] - 5s 4ms/step - loss: 0.0020\n",
      "Epoch 87/100\n",
      "1147/1147 [==============================] - 6s 5ms/step - loss: 0.0020\n",
      "Epoch 88/100\n",
      "1147/1147 [==============================] - 5s 4ms/step - loss: 0.0018\n",
      "Epoch 89/100\n",
      "1147/1147 [==============================] - 5s 4ms/step - loss: 0.0016\n",
      "Epoch 90/100\n",
      "1147/1147 [==============================] - 5s 4ms/step - loss: 0.0019\n",
      "Epoch 91/100\n",
      "1147/1147 [==============================] - 5s 4ms/step - loss: 0.0018\n",
      "Epoch 92/100\n",
      "1147/1147 [==============================] - 5s 4ms/step - loss: 0.0018\n",
      "Epoch 93/100\n",
      "1147/1147 [==============================] - 5s 4ms/step - loss: 0.0019\n",
      "Epoch 94/100\n",
      "1147/1147 [==============================] - 5s 4ms/step - loss: 0.0016\n",
      "Epoch 95/100\n",
      "1147/1147 [==============================] - 5s 4ms/step - loss: 0.0018\n",
      "Epoch 96/100\n",
      "1147/1147 [==============================] - 5s 4ms/step - loss: 0.0017\n",
      "Epoch 97/100\n"
     ]
    },
    {
     "name": "stdout",
     "output_type": "stream",
     "text": [
      "1147/1147 [==============================] - 5s 5ms/step - loss: 0.0015\n",
      "Epoch 98/100\n",
      "1147/1147 [==============================] - 5s 5ms/step - loss: 0.0016\n",
      "Epoch 99/100\n",
      "1147/1147 [==============================] - 5s 4ms/step - loss: 0.0017\n",
      "Epoch 100/100\n",
      "1147/1147 [==============================] - 5s 4ms/step - loss: 0.0017\n"
     ]
    },
    {
     "data": {
      "text/plain": [
       "<keras.callbacks.History at 0x2550990de80>"
      ]
     },
     "execution_count": 16,
     "metadata": {},
     "output_type": "execute_result"
    }
   ],
   "source": [
    "regressor.fit(x_train,y_train,epochs = 100,batch_size = 32)"
   ]
  },
  {
   "cell_type": "markdown",
   "metadata": {},
   "source": [
    "Predict"
   ]
  },
  {
   "cell_type": "code",
   "execution_count": 25,
   "metadata": {
    "collapsed": true
   },
   "outputs": [],
   "source": [
    "predict = regressor.predict(x_test)"
   ]
  },
  {
   "cell_type": "code",
   "execution_count": 26,
   "metadata": {},
   "outputs": [
    {
     "data": {
      "image/png": "[encoded data removed]",
      "text/plain": [
       "<matplotlib.figure.Figure at 0x2550d1da048>"
      ]
     },
     "metadata": {},
     "output_type": "display_data"
    }
   ],
   "source": [
    "plt.plot(y_test[1:20],color = 'red',label = 'Real Stock Price')\n",
    "plt.plot(predict[1:20],color = 'blue',label = 'Predicted Stock Price')\n",
    "plt.title('IBM Stock Price Prediction')\n",
    "plt.xlabel('Time')\n",
    "plt.ylabel('Stock Price')\n",
    "plt.legend()\n",
    "plt.show()"
   ]
  },
  {
   "cell_type": "code",
   "execution_count": 27,
   "metadata": {},
   "outputs": [
    {
     "data": {
      "image/png": "[encoded data removed]",
      "text/plain": [
       "<matplotlib.figure.Figure at 0x2550d1daa90>"
      ]
     },
     "metadata": {},
     "output_type": "display_data"
    }
   ],
   "source": [
    "plt.plot(y_test,color = 'red',label = 'Real Stock Price')\n",
    "plt.plot(predict,color = 'blue',label = 'Predicted Stock Price')\n",
    "plt.title('IBM Stock Price Prediction')\n",
    "plt.xlabel('Time')\n",
    "plt.ylabel('Stock Price')\n",
    "plt.legend()\n",
    "plt.show()"
   ]
  }
 ],
 "metadata": {
  "kernelspec": {
   "display_name": "Python 3",
   "language": "python",
   "name": "python3"
  },
  "language_info": {
   "codemirror_mode": {
    "name": "ipython",
    "version": 3
   },
   "file_extension": ".py",
   "mimetype": "text/x-python",
   "name": "python",
   "nbconvert_exporter": "python",
   "pygments_lexer": "ipython3",
   "version": "3.6.3"
  }
 },
 "nbformat": 4,
 "nbformat_minor": 2
}
